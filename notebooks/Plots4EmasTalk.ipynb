{
 "cells": [
  {
   "cell_type": "markdown",
   "metadata": {},
   "source": [
    "## CL_kg for different configurations"
   ]
  },
  {
   "cell_type": "code",
   "execution_count": 116,
   "metadata": {},
   "outputs": [],
   "source": [
    "import numpy as np\n",
    "import matplotlib.pyplot as plt\n",
    "import sys\n",
    "import time\n",
    "from scipy.interpolate import RectBivariateSpline\n",
    "sys.path.append(\"../scripts/\") \n",
    "from lab import *\n",
    "import os\n",
    "params = {'figure.figsize': (6, 4),\n",
    "         'xtick.labelsize':12,\n",
    "         'ytick.labelsize':12,\n",
    "         'lines.linewidth':2}\n",
    "plt.rcParams.update(params)\n",
    "stylelabel= 'seaborn-colorblind'"
   ]
  },
  {
   "cell_type": "code",
   "execution_count": 117,
   "metadata": {},
   "outputs": [],
   "source": [
    "bin_num   = 'all'\n",
    "bias      = 'simple'\n",
    "LSST      = False"
   ]
  },
  {
   "cell_type": "markdown",
   "metadata": {},
   "source": [
    "#### choose settings"
   ]
  },
  {
   "cell_type": "code",
   "execution_count": 133,
   "metadata": {},
   "outputs": [],
   "source": [
    "z0s       = [1.0,0.7]\n",
    "sigma_zs  = [0.4,0.2]\n",
    "z_sources = [z_cmb,1.3]\n",
    "zmaxs     = [z_cmb,1.5]\n",
    "chimaxs   = chi_z(zmaxs)\n",
    "\n"
   ]
  },
  {
   "cell_type": "code",
   "execution_count": 134,
   "metadata": {},
   "outputs": [],
   "source": [
    "labels=[]"
   ]
  },
  {
   "cell_type": "code",
   "execution_count": 135,
   "metadata": {},
   "outputs": [
    {
     "name": "stdout",
     "output_type": "stream",
     "text": [
      "file extensions for this run: gaussgal_z10_sigma4_cmblens_simple_bias_zmax10886 , zmax10886\n",
      "parameter file is ../settings/params_gaussgal_z10_sigma4_cmblens_simple_bias_zmax10886.pkl\n",
      "file extensions for this run: gaussgal_z7_sigma2_deltalens_z13_simple_bias_zmax15 , zmax15\n",
      "parameter file is ../settings/params_gaussgal_z7_sigma2_deltalens_z13_simple_bias_zmax15.pkl\n"
     ]
    }
   ],
   "source": [
    "file_exts =[]\n",
    "for ii in range(len(z0s)):\n",
    "    z0 = z0s[ii]\n",
    "    sigma_z = sigma_zs[ii]\n",
    "    z_source = z_sources[ii]\n",
    "    zmax = zmaxs[ii]\n",
    "    chimax = chimaxs[ii]\n",
    "    if z_source==z_cmb:\n",
    "        chi_source = chi_cmb\n",
    "    else:\n",
    "        chi_source = chi_z(z_source)\n",
    "\n",
    "    if LSST:\n",
    "        if chi_source==chi_cmb:\n",
    "            file_ext = 'lsst%s_cmblens_'%str(bin_num)\n",
    "        else:\n",
    "            file_ext = 'lsst%s_deltalens_z%d_'%(str(bin_num),z_source*10)\n",
    "    else:\n",
    "        if chi_source==chi_cmb:\n",
    "            file_ext = 'gaussgal_z%d_sigma%d_cmblens_'%(z0*10,sigma_z*10)\n",
    "        else:\n",
    "            file_ext = 'gaussgal_z%d_sigma%d_deltalens_z%d_'%(z0*10,sigma_z*10,z_source*10) \n",
    "\n",
    "    file_ext+=bias+'_bias'\n",
    "\n",
    "    file_ext+=  '_zmax%d'%(zmax*10)\n",
    "    file_ext2 = 'zmax%d'%(zmax*10)\n",
    "\n",
    "    print('file extensions for this run:', file_ext,',', file_ext2)\n",
    "\n",
    "\n",
    "    if bias == 'simple':\n",
    "        bias_func = simple_bias\n",
    "    elif bias =='constant':\n",
    "        bias_func = constant_bias\n",
    "    else:\n",
    "        print('no valid bias function selected')\n",
    "\n",
    "    params = {}\n",
    "    params['LSST'] = LSST\n",
    "    params['z0'] = z0\n",
    "    params['sigma_z'] = sigma_z\n",
    "    params['bin_num'] = bin_num\n",
    "    params['chimax'] = chimax\n",
    "    params['chisource'] = chi_source\n",
    "    params['zsource'] = z_source\n",
    "    params['ext'] = file_ext\n",
    "    params['ext2']= file_ext2\n",
    "    params['bias']=bias\n",
    "\n",
    "    try: \n",
    "        params_ = pickle.load(open('../settings/params_%s.pkl'%file_ext,'rb'))\n",
    "        print('parameter file is ../settings/params_%s.pkl'%file_ext)\n",
    "    except:\n",
    "        raise ValueError('settings file does not exist.')\n",
    "    \n",
    "    if z_source==z_cmb:\n",
    "        label='$z_{s}=z_{CMB}$, $z_{0}$=%.1f, $\\sigma_z$ =%.1f'%(z0, sigma_z)\n",
    "    else:\n",
    "        label='$z_{s}$=%.1f, $z_{0}$=%.1f, $\\sigma_z$ =%.1f'%(z_source,z0, sigma_z)\n",
    "    labels+=[label]\n",
    "    file_exts+=[file_ext]"
   ]
  },
  {
   "cell_type": "code",
   "execution_count": 136,
   "metadata": {},
   "outputs": [
    {
     "name": "stdout",
     "output_type": "stream",
     "text": [
      "plot path exists\n"
     ]
    }
   ],
   "source": [
    "plotpath = '../plots/%s/4talks/'%file_ext\n",
    "if os.path.isdir(plotpath):\n",
    "    print('plot path exists')\n",
    "else:\n",
    "    os.makedirs(plotpath)"
   ]
  },
  {
   "cell_type": "code",
   "execution_count": 137,
   "metadata": {},
   "outputs": [],
   "source": [
    "CLkgs=[]\n",
    "CLkks=[]\n",
    "J11s=[]\n",
    "L = np.logspace(np.log10(min(ell_)),np.log10(max(ell_)/2.),100)"
   ]
  },
  {
   "cell_type": "code",
   "execution_count": 138,
   "metadata": {},
   "outputs": [
    {
     "name": "stdout",
     "output_type": "stream",
     "text": [
      "['gaussgal_z10_sigma4_cmblens_simple_bias_zmax10886', 'gaussgal_z7_sigma2_deltalens_z13_simple_bias_zmax15']\n",
      "['$z_{s}=z_{CMB}$, $z_{0}$=1.0, $\\\\sigma_z$ =0.4', '$z_{s}$=1.3, $z_{0}$=0.7, $\\\\sigma_z$ =0.2']\n"
     ]
    }
   ],
   "source": [
    "print(file_exts)\n",
    "print(labels)"
   ]
  },
  {
   "cell_type": "markdown",
   "metadata": {},
   "source": [
    "#### leading order cross correlation and magnification bias"
   ]
  },
  {
   "cell_type": "code",
   "execution_count": 139,
   "metadata": {},
   "outputs": [],
   "source": [
    "for ii in range(len(z0s)):\n",
    "    ell_,Cl_kg   = np.load('../output/cls/Clkg_%s.npy'%(file_exts[ii]))\n",
    "    ell_,Cl_kk   = np.load('../output/cls/Clkk_%s.npy'%(file_exts[ii]))\n",
    "    _,J11bare = np.load('../output/cls/ClkgJacobianbare_%s.npy'%(file_exts[ii]))\n",
    "    CLkgs+=[Cl_kg]\n",
    "    CLkks+=[Cl_kk]\n",
    "    J11s+=[J11bare]"
   ]
  },
  {
   "cell_type": "code",
   "execution_count": 140,
   "metadata": {},
   "outputs": [
    {
     "data": {
      "image/png": "[encoded data removed]",
      "text/plain": [
       "<Figure size 432x288 with 1 Axes>"
      ]
     },
     "metadata": {
      "needs_background": "light"
     },
     "output_type": "display_data"
    }
   ],
   "source": [
    "s=0.2\n",
    "plot_lines=[]\n",
    "with plt.style.context(stylelabel):\n",
    "    fig, ax1 = plt.subplots()\n",
    "    for ii in range(len(z0s)):\n",
    "        z0 = z0s[ii]\n",
    "        sigma_z = sigma_zs[ii]\n",
    "        z_source = z_sources[ii]\n",
    "        Cl_kg=CLkgs[ii]\n",
    "        Cl_kk=CLkks[ii]\n",
    "        J11bare=J11s[ii]\n",
    "        \n",
    "        \n",
    "        if ii==0:\n",
    "            p,=ax1.semilogx(ell_,J11bare*5.*(s-0.4)+Cl_kg,ls='-', label='$XY=\\kappa g$')\n",
    "            ax1.semilogx(ell_,Cl_kk,ls='--', c=p.get_color(), label = '$XY=\\kappa \\kappa$')\n",
    "        else:\n",
    "            p,=ax1.semilogx(ell_,J11bare*5.*(s-0.4)+Cl_kg,ls='-')\n",
    "            ax1.semilogx(ell_,Cl_kk,ls='--', c=p.get_color())    \n",
    "        plot_lines.append(p)\n",
    "        \n",
    "    legend1 = plt.legend(plot_lines, labels, loc=(1.02,0.7),fontsize=18)\n",
    "    plt.gca().add_artist(legend1) \n",
    "    \n",
    "    ax1.set_xlabel('$L$',fontsize=16)\n",
    "    ax1.set_ylabel('$C_L^{XY}$ (+mag bias)',fontsize=20)\n",
    "    ax1.set_title(r's=%.1f'%s, fontsize=18)\n",
    "    ax1.legend(fontsize=16,loc='best')\n",
    "    ax1.set_xlim(min(ell_),max(ell_))\n",
    "    fig.savefig(plotpath+'clkg_different_configs_s%d_%s.png'%(10*s,file_ext), bbox_inches='tight',dpi=400)\n"
   ]
  },
  {
   "cell_type": "code",
   "execution_count": null,
   "metadata": {},
   "outputs": [],
   "source": []
  },
  {
   "cell_type": "code",
   "execution_count": null,
   "metadata": {},
   "outputs": [],
   "source": []
  }
 ],
 "metadata": {
  "kernelspec": {
   "display_name": "NERSC BCCP",
   "language": "python",
   "name": "bccp"
  },
  "language_info": {
   "codemirror_mode": {
    "name": "ipython",
    "version": 3
   },
   "file_extension": ".py",
   "mimetype": "text/x-python",
   "name": "python",
   "nbconvert_exporter": "python",
   "pygments_lexer": "ipython3",
   "version": "3.6.7"
  }
 },
 "nbformat": 4,
 "nbformat_minor": 4
}
